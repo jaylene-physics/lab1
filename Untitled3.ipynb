{
 "cells": [
  {
   "cell_type": "code",
   "execution_count": 1,
   "metadata": {},
   "outputs": [],
   "source": [
    "import numpy as np"
   ]
  },
  {
   "cell_type": "markdown",
   "metadata": {},
   "source": [
    "First, create a function. As an example use the equation for total energy: $TE = \\frac{1}{2}mv^2 + mgh$"
   ]
  },
  {
   "cell_type": "code",
   "execution_count": 2,
   "metadata": {},
   "outputs": [],
   "source": [
    "def totalE(m,v,h):\n",
    "    TE = 0.5*m*v**2 + m*9.8*h\n",
    "    return TE\n"
   ]
  },
  {
   "cell_type": "code",
   "execution_count": 4,
   "metadata": {},
   "outputs": [
    {
     "name": "stdout",
     "output_type": "stream",
     "text": [
      "Total Energy =  242.54999999999998 Joules\n"
     ]
    }
   ],
   "source": [
    "mass = 1.2\n",
    "vel = 3.5\n",
    "height = 20\n",
    "\n",
    "total_energy = totalE(mass,vel,height)\n",
    "print (\"Total Energy = \",total_energy,\"Joules\")"
   ]
  },
  {
   "cell_type": "code",
   "execution_count": 6,
   "metadata": {},
   "outputs": [
    {
     "name": "stdout",
     "output_type": "stream",
     "text": [
      "[18.  -1.8 44.  22.  62. ]\n"
     ]
    }
   ],
   "source": [
    "mass_array = np.array([1,2,3,4,3])\n",
    "vel_array = np.array([3,2,4,5,6])\n",
    "height_array = np.array([10,0.1,23,12,32])\n",
    "\n",
    "good_heights = height_array-1\n",
    "print (good_heights*2)\n"
   ]
  },
  {
   "cell_type": "code",
   "execution_count": 8,
   "metadata": {},
   "outputs": [
    {
     "name": "stdout",
     "output_type": "stream",
     "text": [
      "[102.5    5.96 700.2  520.4  994.8 ]\n"
     ]
    }
   ],
   "source": [
    "totenergy = totalE(mass_array,vel_array,height_array)\n",
    "print (totenergy)"
   ]
  },
  {
   "cell_type": "code",
   "execution_count": null,
   "metadata": {},
   "outputs": [],
   "source": [
    "def rule3(dA,dB):\n",
    "    dQ = np.sqrt(dA**2+dB**2)\n",
    "    return dQ\n",
    "\n"
   ]
  }
 ],
 "metadata": {
  "kernelspec": {
   "display_name": "Python 3",
   "language": "python",
   "name": "python3"
  },
  "language_info": {
   "codemirror_mode": {
    "name": "ipython",
    "version": 3
   },
   "file_extension": ".py",
   "mimetype": "text/x-python",
   "name": "python",
   "nbconvert_exporter": "python",
   "pygments_lexer": "ipython3",
   "version": "3.7.1"
  }
 },
 "nbformat": 4,
 "nbformat_minor": 2
}
